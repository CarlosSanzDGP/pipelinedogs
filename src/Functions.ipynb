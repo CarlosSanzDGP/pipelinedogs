{
 "cells": [
  {
   "cell_type": "markdown",
   "metadata": {},
   "source": [
    "# Las funciones que voy a utilizar"
   ]
  },
  {
   "cell_type": "code",
   "execution_count": null,
   "metadata": {},
   "outputs": [],
   "source": [
    "# La de la tabla\n",
    "def functiondatos (breed, borough):\n",
    "    table2 = table.Borough == f'{borough}'\n",
    "    table3 = (table.Borough==f'{borough}') & (table.BreedName==f'{breed}')\n",
    "    plot=table[table2].BreedName.value_counts().head(5).plot(kind = 'barh')\n",
    "    return table[table3], plot"
   ]
  },
  {
   "cell_type": "code",
   "execution_count": null,
   "metadata": {},
   "outputs": [],
   "source": [
    "# La de la API\n",
    "def getbreed(breedname):\n",
    "    url = f\"https://dog.ceo/api/breed/{breedname}/images/random\"\n",
    "    respon = requests.get(url)\n",
    "    image = respon.json()\n",
    "    if respon.status_code==404:\n",
    "        return 'Sorry, there are no pics available for that breed'\n",
    "    else:\n",
    "        return image"
   ]
  }
 ],
 "metadata": {
  "kernelspec": {
   "display_name": "Python 3",
   "language": "python",
   "name": "python3"
  },
  "language_info": {
   "codemirror_mode": {
    "name": "ipython",
    "version": 3
   },
   "file_extension": ".py",
   "mimetype": "text/x-python",
   "name": "python",
   "nbconvert_exporter": "python",
   "pygments_lexer": "ipython3",
   "version": "3.6.9"
  }
 },
 "nbformat": 4,
 "nbformat_minor": 4
}
